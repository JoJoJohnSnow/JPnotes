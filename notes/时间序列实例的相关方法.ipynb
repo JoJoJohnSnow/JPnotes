{
 "cells": [
  {
   "cell_type": "code",
   "execution_count": 4,
   "metadata": {},
   "outputs": [],
   "source": [
    "import numpy as pd\n",
    "import pandas as pd"
   ]
  },
  {
   "cell_type": "markdown",
   "metadata": {},
   "source": [
    "# 位移\\滞后\n",
    "## 固定index的同时将时间序列的value向前向后移动\n",
    "方便于差分之类的序列操作"
   ]
  },
  {
   "cell_type": "code",
   "execution_count": 40,
   "metadata": {},
   "outputs": [
    {
     "data": {
      "text/plain": [
       "DatetimeIndex(['2011-01-01', '2011-01-02', '2011-01-03', '2011-01-04',\n",
       "               '2011-01-05', '2011-01-06', '2011-01-07', '2011-01-08',\n",
       "               '2011-01-09', '2011-01-10',\n",
       "               ...\n",
       "               '2011-12-22', '2011-12-23', '2011-12-24', '2011-12-25',\n",
       "               '2011-12-26', '2011-12-27', '2011-12-28', '2011-12-29',\n",
       "               '2011-12-30', '2011-12-31'],\n",
       "              dtype='datetime64[ns]', length=365, freq='D')"
      ]
     },
     "execution_count": 40,
     "metadata": {},
     "output_type": "execute_result"
    }
   ],
   "source": [
    "start = '2011-1-1'\n",
    "end = '2011-12-31'\n",
    "rng = pd.date_range(start, end, freq='d') \n",
    "rng"
   ]
  },
  {
   "cell_type": "code",
   "execution_count": 24,
   "metadata": {},
   "outputs": [
    {
     "name": "stdout",
     "output_type": "stream",
     "text": [
      "2011-01-01    0\n",
      "2011-01-02    1\n",
      "2011-01-03    2\n",
      "2011-01-04    3\n",
      "2011-01-05    4\n",
      "Freq: D, dtype: int64 \n",
      "\n",
      "2011-01-01    1.0\n",
      "2011-01-02    2.0\n",
      "2011-01-03    3.0\n",
      "2011-01-04    4.0\n",
      "2011-01-05    NaN\n",
      "Freq: D, dtype: float64 \n",
      "\n",
      "2011-01-01    NaN\n",
      "2011-01-02    0.0\n",
      "2011-01-03    1.0\n",
      "2011-01-04    2.0\n",
      "2011-01-05    3.0\n",
      "Freq: D, dtype: float64\n",
      "2011-01-03    0\n",
      "2011-01-03    1\n",
      "2011-01-04    2\n",
      "2011-01-05    3\n",
      "2011-01-06    4\n",
      "dtype: int64 \n",
      "\n",
      "2010-12-31    0\n",
      "2010-12-31    1\n",
      "2010-12-31    2\n",
      "2011-01-03    3\n",
      "2011-01-04    4\n",
      "dtype: int64 \n",
      "\n"
     ]
    }
   ],
   "source": [
    "ts = pd.Series(range(len(rng)), index=rng)\n",
    "ts = ts[:5]\n",
    "print(ts,'\\n')\n",
    "print(ts.shift(-1),'\\n') # value back\n",
    "print(ts.shift(+1)) # value forward\n",
    "print(ts.shift(+1, freq=pd.offsets.BDay()),'\\n') # 指定freq后，变成index窗口移动，BDay（工作日）的移动比较特殊\n",
    "print(ts.shift(-1, freq=pd.offsets.BDay()),'\\n') # 负数为index窗口向过去移动"
   ]
  },
  {
   "cell_type": "markdown",
   "metadata": {},
   "source": [
    "# 频率改变\n",
    "## 改变频率后会出现众多空值NAN，value会丢失很多"
   ]
  },
  {
   "cell_type": "code",
   "execution_count": 29,
   "metadata": {},
   "outputs": [
    {
     "data": {
      "text/plain": [
       "2010-01-01    0.731395\n",
       "2010-01-06   -2.395809\n",
       "2010-01-11   -0.361580\n",
       "Freq: 3B, dtype: float64"
      ]
     },
     "execution_count": 29,
     "metadata": {},
     "output_type": "execute_result"
    }
   ],
   "source": [
    "dr = pd.date_range('1/1/2010', periods=3, freq=3 * pd.offsets.BDay())\n",
    "ts = pd.Series(np.random.randn(3), index=dr)\n",
    "ts"
   ]
  },
  {
   "cell_type": "code",
   "execution_count": 30,
   "metadata": {},
   "outputs": [
    {
     "data": {
      "text/plain": [
       "2010-01-01    0.731395\n",
       "2010-01-04         NaN\n",
       "2010-01-05         NaN\n",
       "2010-01-06   -2.395809\n",
       "2010-01-07         NaN\n",
       "2010-01-08         NaN\n",
       "2010-01-11   -0.361580\n",
       "Freq: B, dtype: float64"
      ]
     },
     "execution_count": 30,
     "metadata": {},
     "output_type": "execute_result"
    }
   ],
   "source": [
    "ts.asfreq(pd.offsets.BDay())"
   ]
  },
  {
   "cell_type": "code",
   "execution_count": 31,
   "metadata": {
    "scrolled": false
   },
   "outputs": [
    {
     "data": {
      "text/plain": [
       "2010-01-01    0.731395\n",
       "2010-01-04    0.731395\n",
       "2010-01-05    0.731395\n",
       "2010-01-06   -2.395809\n",
       "2010-01-07   -2.395809\n",
       "2010-01-08   -2.395809\n",
       "2010-01-11   -0.361580\n",
       "Freq: B, dtype: float64"
      ]
     },
     "execution_count": 31,
     "metadata": {},
     "output_type": "execute_result"
    }
   ],
   "source": [
    "ts.asfreq(pd.offsets.BDay(), method='pad') # 改变频率后出现的NaN"
   ]
  },
  {
   "cell_type": "markdown",
   "metadata": {},
   "source": [
    "# 重采样\n",
    "## resample的数据可以调用汇总函数\n",
    "（sum，mean，std，sem， max，min，median，first，last，ohlc等）"
   ]
  },
  {
   "cell_type": "code",
   "execution_count": 39,
   "metadata": {},
   "outputs": [
    {
     "name": "stdout",
     "output_type": "stream",
     "text": [
      "2012-01-01 00:00:00    169\n",
      "2012-01-01 00:00:01    209\n",
      "2012-01-01 00:00:02    306\n",
      "2012-01-01 00:00:03    123\n",
      "2012-01-01 00:00:04    169\n",
      "                      ... \n",
      "2012-01-01 00:08:15    216\n",
      "2012-01-01 00:08:16    200\n",
      "2012-01-01 00:08:17    236\n",
      "2012-01-01 00:08:18    124\n",
      "2012-01-01 00:08:19    131\n",
      "Freq: S, Length: 500, dtype: int32 \n",
      "\n",
      "2012-01-01 00:00:00    15371\n",
      "2012-01-01 00:01:00    16719\n",
      "2012-01-01 00:02:00    16559\n",
      "2012-01-01 00:03:00    15873\n",
      "2012-01-01 00:04:00    15622\n",
      "2012-01-01 00:05:00    13743\n",
      "2012-01-01 00:06:00    17239\n",
      "2012-01-01 00:07:00    15939\n",
      "2012-01-01 00:08:00     4157\n",
      "Freq: T, dtype: int32\n"
     ]
    }
   ],
   "source": [
    "rng = pd.date_range('1/1/2012', periods=500, freq='S')\n",
    "ts = pd.Series(np.random.randint(0, 500, len(rng)), index=rng)\n",
    "print(ts,'\\n')\n",
    "print(ts.resample('1Min').sum())"
   ]
  }
 ],
 "metadata": {
  "kernelspec": {
   "display_name": "Python 3",
   "language": "python",
   "name": "python3"
  },
  "language_info": {
   "codemirror_mode": {
    "name": "ipython",
    "version": 3
   },
   "file_extension": ".py",
   "mimetype": "text/x-python",
   "name": "python",
   "nbconvert_exporter": "python",
   "pygments_lexer": "ipython3",
   "version": "3.6.6"
  },
  "nbTranslate": {
   "displayLangs": [
    "*"
   ],
   "hotkey": "alt-t",
   "langInMainMenu": true,
   "sourceLang": "en",
   "targetLang": "fr",
   "useGoogleTranslate": true
  },
  "varInspector": {
   "cols": {
    "lenName": 16,
    "lenType": 16,
    "lenVar": 40
   },
   "kernels_config": {
    "python": {
     "delete_cmd_postfix": "",
     "delete_cmd_prefix": "del ",
     "library": "var_list.py",
     "varRefreshCmd": "print(var_dic_list())"
    },
    "r": {
     "delete_cmd_postfix": ") ",
     "delete_cmd_prefix": "rm(",
     "library": "var_list.r",
     "varRefreshCmd": "cat(var_dic_list()) "
    }
   },
   "types_to_exclude": [
    "module",
    "function",
    "builtin_function_or_method",
    "instance",
    "_Feature"
   ],
   "window_display": false
  }
 },
 "nbformat": 4,
 "nbformat_minor": 2
}
